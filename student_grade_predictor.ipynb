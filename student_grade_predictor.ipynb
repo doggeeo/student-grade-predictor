{
 "cells": [
  {
   "cell_type": "code",
   "execution_count": 64,
   "id": "e6d5e0ca",
   "metadata": {},
   "outputs": [],
   "source": [
    "import pandas as pd\n",
    "import seaborn as sns\n",
    "import numpy as np\n",
    "from sklearn.model_selection import train_test_split\n",
    "from sklearn.preprocessing import MinMaxScaler\n",
    "from sklearn.linear_model import LinearRegression\n",
    "from category_encoders.target_encoder import TargetEncoder"
   ]
  },
  {
   "cell_type": "code",
   "execution_count": 65,
   "id": "245972b7-494a-4d42-a65a-13a04eaee0ef",
   "metadata": {},
   "outputs": [],
   "source": [
    "def bin_column(column):\n",
    "    categories = list(column.unique())\n",
    "    d={i:[] for i in categories}\n",
    "    for i in column:\n",
    "        for j in list(d.keys()):\n",
    "            if j==i:\n",
    "                d[j]+=[1]\n",
    "            else:\n",
    "                d[j]+=[0]\n",
    "    return d"
   ]
  },
  {
   "cell_type": "code",
   "execution_count": 66,
   "id": "efc9145d",
   "metadata": {},
   "outputs": [],
   "source": [
    "data = pd.read_csv('student-mat.csv')"
   ]
  },
  {
   "cell_type": "code",
   "execution_count": 67,
   "id": "2b379ed8",
   "metadata": {},
   "outputs": [
    {
     "data": {
      "text/plain": [
       "<Axes: xlabel='G3', ylabel='Count'>"
      ]
     },
     "execution_count": 67,
     "metadata": {},
     "output_type": "execute_result"
    },
    {
     "data": {
      "image/png": "[encoded data removed]",
      "text/plain": [
       "<Figure size 640x480 with 1 Axes>"
      ]
     },
     "metadata": {},
     "output_type": "display_data"
    }
   ],
   "source": [
    "sns.histplot(data['G3'])"
   ]
  },
  {
   "cell_type": "markdown",
   "id": "a9bdcb3e-31a6-47ec-8a7a-0e641355c554",
   "metadata": {},
   "source": [
    "# Предобработка данных"
   ]
  },
  {
   "cell_type": "code",
   "execution_count": 68,
   "id": "29104d41",
   "metadata": {},
   "outputs": [],
   "source": [
    "data = data[data['G3'] != 0]"
   ]
  },
  {
   "cell_type": "code",
   "execution_count": 69,
   "id": "de3f9853",
   "metadata": {},
   "outputs": [],
   "source": [
    "X = data.drop(columns=['G3'])\n",
    "Y = data['G3']"
   ]
  },
  {
   "cell_type": "code",
   "execution_count": 70,
   "id": "0fe8b86f",
   "metadata": {},
   "outputs": [],
   "source": [
    "X_train, X_test, Y_train, Y_test = train_test_split(X, Y, test_size=37)"
   ]
  },
  {
   "cell_type": "code",
   "execution_count": 71,
   "id": "32aece18",
   "metadata": {},
   "outputs": [
    {
     "data": {
      "text/plain": [
       "320"
      ]
     },
     "execution_count": 71,
     "metadata": {},
     "output_type": "execute_result"
    }
   ],
   "source": [
    "len(X_train)"
   ]
  },
  {
   "cell_type": "code",
   "execution_count": 72,
   "id": "51a6b8ff",
   "metadata": {},
   "outputs": [
    {
     "data": {
      "text/plain": [
       "37"
      ]
     },
     "execution_count": 72,
     "metadata": {},
     "output_type": "execute_result"
    }
   ],
   "source": [
    "len(X_test)"
   ]
  },
  {
   "cell_type": "code",
   "execution_count": 73,
   "id": "00f4b922",
   "metadata": {},
   "outputs": [],
   "source": [
    "X_Y_train = X_train.copy(deep=True)\n",
    "X_Y_train['y'] = Y_train\n",
    "X_Y_train=X_Y_train.drop(['reason', 'guardian'],axis=1)"
   ]
  },
  {
   "cell_type": "code",
   "execution_count": 74,
   "id": "53195606-340e-4958-9acc-c572ba2605b9",
   "metadata": {},
   "outputs": [
    {
     "name": "stdout",
     "output_type": "stream",
     "text": [
      "Warning: No categorical columns found. Calling 'transform' will only return input data.\n",
      "Warning: No categorical columns found. Calling 'transform' will only return input data.\n"
     ]
    }
   ],
   "source": [
    "X_Y_train['school']=bin_column(X_Y_train['school'])['GP']\n",
    "X_Y_train['gender']=bin_column(X_Y_train['gender'])['M']\n",
    "X_Y_train['address']=bin_column(X_Y_train['address'])['U']\n",
    "X_Y_train['famsize']=bin_column(X_Y_train['famsize'])['GT3']\n",
    "X_Y_train['Pstatus']=bin_column(X_Y_train['Pstatus'])['A']\n",
    "X_Y_train['schoolsup']=bin_column(X_Y_train['schoolsup'])['yes']\n",
    "X_Y_train['famsup']=bin_column(X_Y_train['famsup'])['yes']\n",
    "X_Y_train['paid']=bin_column(X_Y_train['paid'])['yes']\n",
    "X_Y_train['nursery']=bin_column(X_Y_train['nursery'])['yes']\n",
    "X_Y_train['higher']=bin_column(X_Y_train['higher'])['yes']\n",
    "X_Y_train['internet']=bin_column(X_Y_train['internet'])['yes']\n",
    "X_Y_train['romantic']=bin_column(X_Y_train['romantic'])['yes']\n",
    "X_Y_train['activities']=bin_column(X_Y_train['activities'])['yes']\n",
    "X_Y_train['Pedu']=(X_Y_train['Fedu']+X_Y_train['Medu'])/2\n",
    "X_Y_train=X_Y_train.drop(['Medu','Fedu'],axis=1)\n",
    "\n",
    "mjob_target_encoder = TargetEncoder()\n",
    "mjob_target_encoder.fit(X_Y_train['Mjob'], X_Y_train['y'])\n",
    "X_Y_train['Mjob'] = mjob_target_encoder.transform(X_Y_train['Mjob'])\n",
    "\n",
    "fjob_target_encoder = TargetEncoder()\n",
    "fjob_target_encoder.fit(X_Y_train['Fjob'], X_Y_train['y'])\n",
    "X_Y_train['Fjob'] = fjob_target_encoder.transform(X_Y_train['Fjob'])\n",
    "\n",
    "schoolsup_target_encoder = TargetEncoder()\n",
    "schoolsup_target_encoder.fit(X_Y_train['schoolsup'], X_Y_train['y'])\n",
    "X_Y_train['schoolsup'] = schoolsup_target_encoder.transform(X_Y_train['schoolsup'])\n",
    "\n",
    "higher_target_encoder = TargetEncoder()\n",
    "higher_target_encoder.fit(X_Y_train['higher'], X_Y_train['y'])\n",
    "X_Y_train['higher'] = higher_target_encoder.transform(X_Y_train['higher'])"
   ]
  },
  {
   "cell_type": "code",
   "execution_count": 75,
   "id": "d513d776",
   "metadata": {},
   "outputs": [],
   "source": [
    "corr = X_Y_train.corr()['y']"
   ]
  },
  {
   "cell_type": "code",
   "execution_count": 76,
   "id": "4238171f-35ef-4179-a9a0-887f4fecfa18",
   "metadata": {},
   "outputs": [
    {
     "data": {
      "text/plain": [
       "school        0.083701\n",
       "gender        0.103950\n",
       "age          -0.125414\n",
       "address       0.107891\n",
       "famsize      -0.060461\n",
       "Pstatus       0.021768\n",
       "Mjob          0.218020\n",
       "Fjob          0.173038\n",
       "traveltime   -0.095514\n",
       "studytime     0.107797\n",
       "failures     -0.306694\n",
       "schoolsup    -0.259975\n",
       "famsup       -0.071084\n",
       "paid         -0.034458\n",
       "activities    0.052220\n",
       "nursery       0.009928\n",
       "higher        0.107097\n",
       "internet      0.117302\n",
       "romantic     -0.093007\n",
       "famrel        0.047179\n",
       "freetime     -0.021407\n",
       "goout        -0.165276\n",
       "health       -0.064298\n",
       "absences     -0.198891\n",
       "G1            0.890471\n",
       "y             1.000000\n",
       "Pedu          0.214490\n",
       "Name: y, dtype: float64"
      ]
     },
     "execution_count": 76,
     "metadata": {},
     "output_type": "execute_result"
    }
   ],
   "source": [
    "corr"
   ]
  },
  {
   "cell_type": "code",
   "execution_count": 77,
   "id": "c310c47b",
   "metadata": {},
   "outputs": [],
   "source": [
    "corr = corr[abs(corr)>=0.1]"
   ]
  },
  {
   "cell_type": "code",
   "execution_count": 78,
   "id": "ddb50e9b",
   "metadata": {},
   "outputs": [
    {
     "data": {
      "text/plain": [
       "gender       0.103950\n",
       "age         -0.125414\n",
       "address      0.107891\n",
       "Mjob         0.218020\n",
       "Fjob         0.173038\n",
       "studytime    0.107797\n",
       "failures    -0.306694\n",
       "schoolsup   -0.259975\n",
       "higher       0.107097\n",
       "internet     0.117302\n",
       "goout       -0.165276\n",
       "absences    -0.198891\n",
       "G1           0.890471\n",
       "y            1.000000\n",
       "Pedu         0.214490\n",
       "Name: y, dtype: float64"
      ]
     },
     "execution_count": 78,
     "metadata": {},
     "output_type": "execute_result"
    }
   ],
   "source": [
    "corr"
   ]
  },
  {
   "cell_type": "code",
   "execution_count": 79,
   "id": "43e57836-17ea-4372-b81a-653332f30996",
   "metadata": {},
   "outputs": [],
   "source": [
    "useful=['age','address','Mjob','Fjob','traveltime','studytime','failures','schoolsup','higher','internet','goout','absences','G1','Pedu']\n",
    "X_Y_train=X_Y_train[useful+['y']]"
   ]
  },
  {
   "cell_type": "code",
   "execution_count": 80,
   "id": "736ae8d5-c436-416d-87b0-b84252634f6b",
   "metadata": {},
   "outputs": [],
   "source": [
    "scaler = MinMaxScaler()\n",
    "scaler.fit(X_Y_train.drop(['y'],axis=1))\n",
    "X_train=scaler.transform(X_Y_train.drop(['y'],axis=1))"
   ]
  },
  {
   "cell_type": "code",
   "execution_count": 81,
   "id": "ebf146cf",
   "metadata": {},
   "outputs": [],
   "source": [
    "model = LinearRegression()"
   ]
  },
  {
   "cell_type": "code",
   "execution_count": 82,
   "id": "fbd46bd1",
   "metadata": {},
   "outputs": [
    {
     "data": {
      "text/html": [
       "<style>#sk-container-id-4 {\n",
       "  /* Definition of color scheme common for light and dark mode */\n",
       "  --sklearn-color-text: black;\n",
       "  --sklearn-color-line: gray;\n",
       "  /* Definition of color scheme for unfitted estimators */\n",
       "  --sklearn-color-unfitted-level-0: #fff5e6;\n",
       "  --sklearn-color-unfitted-level-1: #f6e4d2;\n",
       "  --sklearn-color-unfitted-level-2: #ffe0b3;\n",
       "  --sklearn-color-unfitted-level-3: chocolate;\n",
       "  /* Definition of color scheme for fitted estimators */\n",
       "  --sklearn-color-fitted-level-0: #f0f8ff;\n",
       "  --sklearn-color-fitted-level-1: #d4ebff;\n",
       "  --sklearn-color-fitted-level-2: #b3dbfd;\n",
       "  --sklearn-color-fitted-level-3: cornflowerblue;\n",
       "\n",
       "  /* Specific color for light theme */\n",
       "  --sklearn-color-text-on-default-background: var(--sg-text-color, var(--theme-code-foreground, var(--jp-content-font-color1, black)));\n",
       "  --sklearn-color-background: var(--sg-background-color, var(--theme-background, var(--jp-layout-color0, white)));\n",
       "  --sklearn-color-border-box: var(--sg-text-color, var(--theme-code-foreground, var(--jp-content-font-color1, black)));\n",
       "  --sklearn-color-icon: #696969;\n",
       "\n",
       "  @media (prefers-color-scheme: dark) {\n",
       "    /* Redefinition of color scheme for dark theme */\n",
       "    --sklearn-color-text-on-default-background: var(--sg-text-color, var(--theme-code-foreground, var(--jp-content-font-color1, white)));\n",
       "    --sklearn-color-background: var(--sg-background-color, var(--theme-background, var(--jp-layout-color0, #111)));\n",
       "    --sklearn-color-border-box: var(--sg-text-color, var(--theme-code-foreground, var(--jp-content-font-color1, white)));\n",
       "    --sklearn-color-icon: #878787;\n",
       "  }\n",
       "}\n",
       "\n",
       "#sk-container-id-4 {\n",
       "  color: var(--sklearn-color-text);\n",
       "}\n",
       "\n",
       "#sk-container-id-4 pre {\n",
       "  padding: 0;\n",
       "}\n",
       "\n",
       "#sk-container-id-4 input.sk-hidden--visually {\n",
       "  border: 0;\n",
       "  clip: rect(1px 1px 1px 1px);\n",
       "  clip: rect(1px, 1px, 1px, 1px);\n",
       "  height: 1px;\n",
       "  margin: -1px;\n",
       "  overflow: hidden;\n",
       "  padding: 0;\n",
       "  position: absolute;\n",
       "  width: 1px;\n",
       "}\n",
       "\n",
       "#sk-container-id-4 div.sk-dashed-wrapped {\n",
       "  border: 1px dashed var(--sklearn-color-line);\n",
       "  margin: 0 0.4em 0.5em 0.4em;\n",
       "  box-sizing: border-box;\n",
       "  padding-bottom: 0.4em;\n",
       "  background-color: var(--sklearn-color-background);\n",
       "}\n",
       "\n",
       "#sk-container-id-4 div.sk-container {\n",
       "  /* jupyter's `normalize.less` sets `[hidden] { display: none; }`\n",
       "     but bootstrap.min.css set `[hidden] { display: none !important; }`\n",
       "     so we also need the `!important` here to be able to override the\n",
       "     default hidden behavior on the sphinx rendered scikit-learn.org.\n",
       "     See: https://github.com/scikit-learn/scikit-learn/issues/21755 */\n",
       "  display: inline-block !important;\n",
       "  position: relative;\n",
       "}\n",
       "\n",
       "#sk-container-id-4 div.sk-text-repr-fallback {\n",
       "  display: none;\n",
       "}\n",
       "\n",
       "div.sk-parallel-item,\n",
       "div.sk-serial,\n",
       "div.sk-item {\n",
       "  /* draw centered vertical line to link estimators */\n",
       "  background-image: linear-gradient(var(--sklearn-color-text-on-default-background), var(--sklearn-color-text-on-default-background));\n",
       "  background-size: 2px 100%;\n",
       "  background-repeat: no-repeat;\n",
       "  background-position: center center;\n",
       "}\n",
       "\n",
       "/* Parallel-specific style estimator block */\n",
       "\n",
       "#sk-container-id-4 div.sk-parallel-item::after {\n",
       "  content: \"\";\n",
       "  width: 100%;\n",
       "  border-bottom: 2px solid var(--sklearn-color-text-on-default-background);\n",
       "  flex-grow: 1;\n",
       "}\n",
       "\n",
       "#sk-container-id-4 div.sk-parallel {\n",
       "  display: flex;\n",
       "  align-items: stretch;\n",
       "  justify-content: center;\n",
       "  background-color: var(--sklearn-color-background);\n",
       "  position: relative;\n",
       "}\n",
       "\n",
       "#sk-container-id-4 div.sk-parallel-item {\n",
       "  display: flex;\n",
       "  flex-direction: column;\n",
       "}\n",
       "\n",
       "#sk-container-id-4 div.sk-parallel-item:first-child::after {\n",
       "  align-self: flex-end;\n",
       "  width: 50%;\n",
       "}\n",
       "\n",
       "#sk-container-id-4 div.sk-parallel-item:last-child::after {\n",
       "  align-self: flex-start;\n",
       "  width: 50%;\n",
       "}\n",
       "\n",
       "#sk-container-id-4 div.sk-parallel-item:only-child::after {\n",
       "  width: 0;\n",
       "}\n",
       "\n",
       "/* Serial-specific style estimator block */\n",
       "\n",
       "#sk-container-id-4 div.sk-serial {\n",
       "  display: flex;\n",
       "  flex-direction: column;\n",
       "  align-items: center;\n",
       "  background-color: var(--sklearn-color-background);\n",
       "  padding-right: 1em;\n",
       "  padding-left: 1em;\n",
       "}\n",
       "\n",
       "\n",
       "/* Toggleable style: style used for estimator/Pipeline/ColumnTransformer box that is\n",
       "clickable and can be expanded/collapsed.\n",
       "- Pipeline and ColumnTransformer use this feature and define the default style\n",
       "- Estimators will overwrite some part of the style using the `sk-estimator` class\n",
       "*/\n",
       "\n",
       "/* Pipeline and ColumnTransformer style (default) */\n",
       "\n",
       "#sk-container-id-4 div.sk-toggleable {\n",
       "  /* Default theme specific background. It is overwritten whether we have a\n",
       "  specific estimator or a Pipeline/ColumnTransformer */\n",
       "  background-color: var(--sklearn-color-background);\n",
       "}\n",
       "\n",
       "/* Toggleable label */\n",
       "#sk-container-id-4 label.sk-toggleable__label {\n",
       "  cursor: pointer;\n",
       "  display: block;\n",
       "  width: 100%;\n",
       "  margin-bottom: 0;\n",
       "  padding: 0.5em;\n",
       "  box-sizing: border-box;\n",
       "  text-align: center;\n",
       "}\n",
       "\n",
       "#sk-container-id-4 label.sk-toggleable__label-arrow:before {\n",
       "  /* Arrow on the left of the label */\n",
       "  content: \"▸\";\n",
       "  float: left;\n",
       "  margin-right: 0.25em;\n",
       "  color: var(--sklearn-color-icon);\n",
       "}\n",
       "\n",
       "#sk-container-id-4 label.sk-toggleable__label-arrow:hover:before {\n",
       "  color: var(--sklearn-color-text);\n",
       "}\n",
       "\n",
       "/* Toggleable content - dropdown */\n",
       "\n",
       "#sk-container-id-4 div.sk-toggleable__content {\n",
       "  max-height: 0;\n",
       "  max-width: 0;\n",
       "  overflow: hidden;\n",
       "  text-align: left;\n",
       "  /* unfitted */\n",
       "  background-color: var(--sklearn-color-unfitted-level-0);\n",
       "}\n",
       "\n",
       "#sk-container-id-4 div.sk-toggleable__content.fitted {\n",
       "  /* fitted */\n",
       "  background-color: var(--sklearn-color-fitted-level-0);\n",
       "}\n",
       "\n",
       "#sk-container-id-4 div.sk-toggleable__content pre {\n",
       "  margin: 0.2em;\n",
       "  border-radius: 0.25em;\n",
       "  color: var(--sklearn-color-text);\n",
       "  /* unfitted */\n",
       "  background-color: var(--sklearn-color-unfitted-level-0);\n",
       "}\n",
       "\n",
       "#sk-container-id-4 div.sk-toggleable__content.fitted pre {\n",
       "  /* unfitted */\n",
       "  background-color: var(--sklearn-color-fitted-level-0);\n",
       "}\n",
       "\n",
       "#sk-container-id-4 input.sk-toggleable__control:checked~div.sk-toggleable__content {\n",
       "  /* Expand drop-down */\n",
       "  max-height: 200px;\n",
       "  max-width: 100%;\n",
       "  overflow: auto;\n",
       "}\n",
       "\n",
       "#sk-container-id-4 input.sk-toggleable__control:checked~label.sk-toggleable__label-arrow:before {\n",
       "  content: \"▾\";\n",
       "}\n",
       "\n",
       "/* Pipeline/ColumnTransformer-specific style */\n",
       "\n",
       "#sk-container-id-4 div.sk-label input.sk-toggleable__control:checked~label.sk-toggleable__label {\n",
       "  color: var(--sklearn-color-text);\n",
       "  background-color: var(--sklearn-color-unfitted-level-2);\n",
       "}\n",
       "\n",
       "#sk-container-id-4 div.sk-label.fitted input.sk-toggleable__control:checked~label.sk-toggleable__label {\n",
       "  background-color: var(--sklearn-color-fitted-level-2);\n",
       "}\n",
       "\n",
       "/* Estimator-specific style */\n",
       "\n",
       "/* Colorize estimator box */\n",
       "#sk-container-id-4 div.sk-estimator input.sk-toggleable__control:checked~label.sk-toggleable__label {\n",
       "  /* unfitted */\n",
       "  background-color: var(--sklearn-color-unfitted-level-2);\n",
       "}\n",
       "\n",
       "#sk-container-id-4 div.sk-estimator.fitted input.sk-toggleable__control:checked~label.sk-toggleable__label {\n",
       "  /* fitted */\n",
       "  background-color: var(--sklearn-color-fitted-level-2);\n",
       "}\n",
       "\n",
       "#sk-container-id-4 div.sk-label label.sk-toggleable__label,\n",
       "#sk-container-id-4 div.sk-label label {\n",
       "  /* The background is the default theme color */\n",
       "  color: var(--sklearn-color-text-on-default-background);\n",
       "}\n",
       "\n",
       "/* On hover, darken the color of the background */\n",
       "#sk-container-id-4 div.sk-label:hover label.sk-toggleable__label {\n",
       "  color: var(--sklearn-color-text);\n",
       "  background-color: var(--sklearn-color-unfitted-level-2);\n",
       "}\n",
       "\n",
       "/* Label box, darken color on hover, fitted */\n",
       "#sk-container-id-4 div.sk-label.fitted:hover label.sk-toggleable__label.fitted {\n",
       "  color: var(--sklearn-color-text);\n",
       "  background-color: var(--sklearn-color-fitted-level-2);\n",
       "}\n",
       "\n",
       "/* Estimator label */\n",
       "\n",
       "#sk-container-id-4 div.sk-label label {\n",
       "  font-family: monospace;\n",
       "  font-weight: bold;\n",
       "  display: inline-block;\n",
       "  line-height: 1.2em;\n",
       "}\n",
       "\n",
       "#sk-container-id-4 div.sk-label-container {\n",
       "  text-align: center;\n",
       "}\n",
       "\n",
       "/* Estimator-specific */\n",
       "#sk-container-id-4 div.sk-estimator {\n",
       "  font-family: monospace;\n",
       "  border: 1px dotted var(--sklearn-color-border-box);\n",
       "  border-radius: 0.25em;\n",
       "  box-sizing: border-box;\n",
       "  margin-bottom: 0.5em;\n",
       "  /* unfitted */\n",
       "  background-color: var(--sklearn-color-unfitted-level-0);\n",
       "}\n",
       "\n",
       "#sk-container-id-4 div.sk-estimator.fitted {\n",
       "  /* fitted */\n",
       "  background-color: var(--sklearn-color-fitted-level-0);\n",
       "}\n",
       "\n",
       "/* on hover */\n",
       "#sk-container-id-4 div.sk-estimator:hover {\n",
       "  /* unfitted */\n",
       "  background-color: var(--sklearn-color-unfitted-level-2);\n",
       "}\n",
       "\n",
       "#sk-container-id-4 div.sk-estimator.fitted:hover {\n",
       "  /* fitted */\n",
       "  background-color: var(--sklearn-color-fitted-level-2);\n",
       "}\n",
       "\n",
       "/* Specification for estimator info (e.g. \"i\" and \"?\") */\n",
       "\n",
       "/* Common style for \"i\" and \"?\" */\n",
       "\n",
       ".sk-estimator-doc-link,\n",
       "a:link.sk-estimator-doc-link,\n",
       "a:visited.sk-estimator-doc-link {\n",
       "  float: right;\n",
       "  font-size: smaller;\n",
       "  line-height: 1em;\n",
       "  font-family: monospace;\n",
       "  background-color: var(--sklearn-color-background);\n",
       "  border-radius: 1em;\n",
       "  height: 1em;\n",
       "  width: 1em;\n",
       "  text-decoration: none !important;\n",
       "  margin-left: 1ex;\n",
       "  /* unfitted */\n",
       "  border: var(--sklearn-color-unfitted-level-1) 1pt solid;\n",
       "  color: var(--sklearn-color-unfitted-level-1);\n",
       "}\n",
       "\n",
       ".sk-estimator-doc-link.fitted,\n",
       "a:link.sk-estimator-doc-link.fitted,\n",
       "a:visited.sk-estimator-doc-link.fitted {\n",
       "  /* fitted */\n",
       "  border: var(--sklearn-color-fitted-level-1) 1pt solid;\n",
       "  color: var(--sklearn-color-fitted-level-1);\n",
       "}\n",
       "\n",
       "/* On hover */\n",
       "div.sk-estimator:hover .sk-estimator-doc-link:hover,\n",
       ".sk-estimator-doc-link:hover,\n",
       "div.sk-label-container:hover .sk-estimator-doc-link:hover,\n",
       ".sk-estimator-doc-link:hover {\n",
       "  /* unfitted */\n",
       "  background-color: var(--sklearn-color-unfitted-level-3);\n",
       "  color: var(--sklearn-color-background);\n",
       "  text-decoration: none;\n",
       "}\n",
       "\n",
       "div.sk-estimator.fitted:hover .sk-estimator-doc-link.fitted:hover,\n",
       ".sk-estimator-doc-link.fitted:hover,\n",
       "div.sk-label-container:hover .sk-estimator-doc-link.fitted:hover,\n",
       ".sk-estimator-doc-link.fitted:hover {\n",
       "  /* fitted */\n",
       "  background-color: var(--sklearn-color-fitted-level-3);\n",
       "  color: var(--sklearn-color-background);\n",
       "  text-decoration: none;\n",
       "}\n",
       "\n",
       "/* Span, style for the box shown on hovering the info icon */\n",
       ".sk-estimator-doc-link span {\n",
       "  display: none;\n",
       "  z-index: 9999;\n",
       "  position: relative;\n",
       "  font-weight: normal;\n",
       "  right: .2ex;\n",
       "  padding: .5ex;\n",
       "  margin: .5ex;\n",
       "  width: min-content;\n",
       "  min-width: 20ex;\n",
       "  max-width: 50ex;\n",
       "  color: var(--sklearn-color-text);\n",
       "  box-shadow: 2pt 2pt 4pt #999;\n",
       "  /* unfitted */\n",
       "  background: var(--sklearn-color-unfitted-level-0);\n",
       "  border: .5pt solid var(--sklearn-color-unfitted-level-3);\n",
       "}\n",
       "\n",
       ".sk-estimator-doc-link.fitted span {\n",
       "  /* fitted */\n",
       "  background: var(--sklearn-color-fitted-level-0);\n",
       "  border: var(--sklearn-color-fitted-level-3);\n",
       "}\n",
       "\n",
       ".sk-estimator-doc-link:hover span {\n",
       "  display: block;\n",
       "}\n",
       "\n",
       "/* \"?\"-specific style due to the `<a>` HTML tag */\n",
       "\n",
       "#sk-container-id-4 a.estimator_doc_link {\n",
       "  float: right;\n",
       "  font-size: 1rem;\n",
       "  line-height: 1em;\n",
       "  font-family: monospace;\n",
       "  background-color: var(--sklearn-color-background);\n",
       "  border-radius: 1rem;\n",
       "  height: 1rem;\n",
       "  width: 1rem;\n",
       "  text-decoration: none;\n",
       "  /* unfitted */\n",
       "  color: var(--sklearn-color-unfitted-level-1);\n",
       "  border: var(--sklearn-color-unfitted-level-1) 1pt solid;\n",
       "}\n",
       "\n",
       "#sk-container-id-4 a.estimator_doc_link.fitted {\n",
       "  /* fitted */\n",
       "  border: var(--sklearn-color-fitted-level-1) 1pt solid;\n",
       "  color: var(--sklearn-color-fitted-level-1);\n",
       "}\n",
       "\n",
       "/* On hover */\n",
       "#sk-container-id-4 a.estimator_doc_link:hover {\n",
       "  /* unfitted */\n",
       "  background-color: var(--sklearn-color-unfitted-level-3);\n",
       "  color: var(--sklearn-color-background);\n",
       "  text-decoration: none;\n",
       "}\n",
       "\n",
       "#sk-container-id-4 a.estimator_doc_link.fitted:hover {\n",
       "  /* fitted */\n",
       "  background-color: var(--sklearn-color-fitted-level-3);\n",
       "}\n",
       "</style><div id=\"sk-container-id-4\" class=\"sk-top-container\"><div class=\"sk-text-repr-fallback\"><pre>LinearRegression()</pre><b>In a Jupyter environment, please rerun this cell to show the HTML representation or trust the notebook. <br />On GitHub, the HTML representation is unable to render, please try loading this page with nbviewer.org.</b></div><div class=\"sk-container\" hidden><div class=\"sk-item\"><div class=\"sk-estimator fitted sk-toggleable\"><input class=\"sk-toggleable__control sk-hidden--visually\" id=\"sk-estimator-id-4\" type=\"checkbox\" checked><label for=\"sk-estimator-id-4\" class=\"sk-toggleable__label fitted sk-toggleable__label-arrow fitted\">&nbsp;&nbsp;LinearRegression<a class=\"sk-estimator-doc-link fitted\" rel=\"noreferrer\" target=\"_blank\" href=\"https://scikit-learn.org/1.4/modules/generated/sklearn.linear_model.LinearRegression.html\">?<span>Documentation for LinearRegression</span></a><span class=\"sk-estimator-doc-link fitted\">i<span>Fitted</span></span></label><div class=\"sk-toggleable__content fitted\"><pre>LinearRegression()</pre></div> </div></div></div></div>"
      ],
      "text/plain": [
       "LinearRegression()"
      ]
     },
     "execution_count": 82,
     "metadata": {},
     "output_type": "execute_result"
    }
   ],
   "source": [
    "model.fit(X_train, Y_train)"
   ]
  },
  {
   "cell_type": "code",
   "execution_count": 83,
   "id": "e0cad532",
   "metadata": {},
   "outputs": [
    {
     "data": {
      "text/plain": [
       "0.8189560074663669"
      ]
     },
     "execution_count": 83,
     "metadata": {},
     "output_type": "execute_result"
    }
   ],
   "source": [
    "model.score(X_train, Y_train)"
   ]
  },
  {
   "cell_type": "markdown",
   "id": "433c1d4b-a7f1-46d5-8b6f-c72380ac619a",
   "metadata": {},
   "source": [
    "# Проверка на тестовой выборке"
   ]
  },
  {
   "cell_type": "code",
   "execution_count": 84,
   "id": "9d6c2ab5",
   "metadata": {},
   "outputs": [],
   "source": [
    "X_test=X_test.drop(['reason', 'guardian'],axis=1)\n",
    "X_test['school']=bin_column(X_test['school'])['GP']\n",
    "X_test['gender']=bin_column(X_test['gender'])['M']\n",
    "X_test['address']=bin_column(X_test['address'])['U']\n",
    "X_test['famsize']=bin_column(X_test['famsize'])['GT3']\n",
    "X_test['Pstatus']=bin_column(X_test['Pstatus'])['A']\n",
    "X_test['schoolsup']=bin_column(X_test['schoolsup'])['yes']\n",
    "X_test['famsup']=bin_column(X_test['famsup'])['yes']\n",
    "X_test['paid']=bin_column(X_test['paid'])['yes']\n",
    "X_test['nursery']=bin_column(X_test['nursery'])['yes']\n",
    "X_test['higher']=bin_column(X_test['higher'])['yes']\n",
    "X_test['internet']=bin_column(X_test['internet'])['yes']\n",
    "X_test['romantic']=bin_column(X_test['romantic'])['yes']\n",
    "X_test['activities']=bin_column(X_test['activities'])['yes']\n",
    "X_test['Pedu']=(X_test['Fedu']+X_test['Medu'])/2\n",
    "X_test=X_test.drop(['Medu','Fedu'],axis=1)\n",
    "X_test['Mjob'] = mjob_target_encoder.transform(X_test['Mjob'])\n",
    "X_test['Fjob'] = fjob_target_encoder.transform(X_test['Fjob'])\n",
    "X_test['schoolsup'] = schoolsup_target_encoder.transform(X_test['schoolsup'])\n",
    "X_test['higher'] = higher_target_encoder.transform(X_test['higher'])\n",
    "X_test=X_test[useful]"
   ]
  },
  {
   "cell_type": "code",
   "execution_count": 85,
   "id": "92192c60",
   "metadata": {},
   "outputs": [],
   "source": [
    "X_test = scaler.transform(X_test)"
   ]
  },
  {
   "cell_type": "code",
   "execution_count": 88,
   "id": "e58bb7e4",
   "metadata": {},
   "outputs": [
    {
     "data": {
      "text/plain": [
       "0.8519589518738133"
      ]
     },
     "execution_count": 88,
     "metadata": {},
     "output_type": "execute_result"
    }
   ],
   "source": [
    "model.score(X_test, Y_test)"
   ]
  },
  {
   "cell_type": "markdown",
   "id": "d77ace2b",
   "metadata": {},
   "source": [
    "# Интерпретация"
   ]
  },
  {
   "cell_type": "code",
   "execution_count": 89,
   "id": "f9897b29",
   "metadata": {},
   "outputs": [
    {
     "data": {
      "text/plain": [
       "array([-1.58291563,  0.26799737,  0.05708249, -0.14559158,  0.06385565,\n",
       "        0.0206786 ,  0.24513802, -0.23252543, -0.44492276,  0.40876107,\n",
       "       -0.38025614, -2.75610508, 13.75460053,  0.38208489])"
      ]
     },
     "execution_count": 89,
     "metadata": {},
     "output_type": "execute_result"
    }
   ],
   "source": [
    "model.coef_"
   ]
  },
  {
   "cell_type": "code",
   "execution_count": 91,
   "id": "7a44320a",
   "metadata": {},
   "outputs": [
    {
     "name": "stdout",
     "output_type": "stream",
     "text": [
      "age -1.58\n",
      "address 0.27\n",
      "Mjob 0.06\n",
      "Fjob -0.15\n",
      "traveltime 0.06\n",
      "studytime 0.02\n",
      "failures 0.25\n",
      "schoolsup -0.23\n",
      "higher -0.44\n",
      "internet 0.41\n",
      "goout -0.38\n",
      "absences -2.76\n",
      "G1 13.75\n",
      "Pedu 0.38\n"
     ]
    }
   ],
   "source": [
    "for x, y in zip(useful, model.coef_):\n",
    "    print(x, round(y, 2))"
   ]
  },
  {
   "cell_type": "code",
   "execution_count": null,
   "id": "cbcce372",
   "metadata": {},
   "outputs": [],
   "source": []
  }
 ],
 "metadata": {
  "kernelspec": {
   "display_name": "Python 3 (ipykernel)",
   "language": "python",
   "name": "python3"
  },
  "language_info": {
   "codemirror_mode": {
    "name": "ipython",
    "version": 3
   },
   "file_extension": ".py",
   "mimetype": "text/x-python",
   "name": "python",
   "nbconvert_exporter": "python",
   "pygments_lexer": "ipython3",
   "version": "3.12.1"
  }
 },
 "nbformat": 4,
 "nbformat_minor": 5
}
